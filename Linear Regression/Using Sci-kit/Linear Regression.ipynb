{
 "cells": [
  {
   "cell_type": "code",
   "execution_count": 1,
   "id": "fb32b77d-e6e0-4de6-9cdf-553dc43a785d",
   "metadata": {},
   "outputs": [],
   "source": [
    "# Developing and testing a model is achieved by- \n",
    "# 1. Getting the training_data from measurement.csv, and the testing_data from forecast.csv.\n",
    "# 2. Exploring the training_data to find relations between the data.\n",
    "# 3. Training our model using the training_data.\n",
    "# 4. Predicting the values for Power using the testing_data.\n",
    "# 5. Comparing the predicted values for Power with the expected values for Power available \n",
    "# in the forecast.csv file."
   ]
  },
  {
   "cell_type": "code",
   "execution_count": 2,
   "id": "212be1a9-7495-460b-b421-b98ce5240f82",
   "metadata": {},
   "outputs": [],
   "source": [
    "import warnings\n",
    "warnings.filterwarnings('ignore')\n",
    "import pandas as pd\n",
    "import numpy as np\n",
    "import matplotlib.pyplot as plt\n",
    "from collections import Counter"
   ]
  },
  {
   "cell_type": "code",
   "execution_count": 3,
   "id": "4c9b25ca-f8a9-4365-9419-37d9fa3a86d1",
   "metadata": {},
   "outputs": [],
   "source": [
    "# Get the training_data"
   ]
  },
  {
   "cell_type": "code",
   "execution_count": 4,
   "id": "57c4ece2-6acf-4560-aad6-fa4d22a7c058",
   "metadata": {},
   "outputs": [],
   "source": [
    "training_data = pd.read_csv('measurement.csv', delimiter=\";\")"
   ]
  },
  {
   "cell_type": "code",
   "execution_count": 5,
   "id": "44ecc4bf-3833-4e2d-a231-aa9621ac1b57",
   "metadata": {},
   "outputs": [],
   "source": [
    "#Renaming and restructuring training_data for a better visualization of attributes and labels"
   ]
  },
  {
   "cell_type": "code",
   "execution_count": 6,
   "id": "401d0e10-1431-4f38-952b-d81af127f435",
   "metadata": {},
   "outputs": [
    {
     "data": {
      "text/html": [
       "<div>\n",
       "<style scoped>\n",
       "    .dataframe tbody tr th:only-of-type {\n",
       "        vertical-align: middle;\n",
       "    }\n",
       "\n",
       "    .dataframe tbody tr th {\n",
       "        vertical-align: top;\n",
       "    }\n",
       "\n",
       "    .dataframe thead th {\n",
       "        text-align: right;\n",
       "    }\n",
       "</style>\n",
       "<table border=\"1\" class=\"dataframe\">\n",
       "  <thead>\n",
       "    <tr style=\"text-align: right;\">\n",
       "      <th></th>\n",
       "      <th>ForecastTime</th>\n",
       "      <th>MeasurementTime</th>\n",
       "      <th>WindSpeed(m/s)</th>\n",
       "      <th>RelativePower</th>\n",
       "    </tr>\n",
       "  </thead>\n",
       "  <tbody>\n",
       "    <tr>\n",
       "      <th>0</th>\n",
       "      <td>2019-11-01</td>\n",
       "      <td>2019-11-01 01:00:00</td>\n",
       "      <td>7.47</td>\n",
       "      <td>0.32</td>\n",
       "    </tr>\n",
       "    <tr>\n",
       "      <th>1</th>\n",
       "      <td>2019-11-01</td>\n",
       "      <td>2019-11-01 02:00:00</td>\n",
       "      <td>7.62</td>\n",
       "      <td>0.22</td>\n",
       "    </tr>\n",
       "    <tr>\n",
       "      <th>2</th>\n",
       "      <td>2019-11-01</td>\n",
       "      <td>2019-11-01 03:00:00</td>\n",
       "      <td>8.35</td>\n",
       "      <td>0.27</td>\n",
       "    </tr>\n",
       "    <tr>\n",
       "      <th>3</th>\n",
       "      <td>2019-11-01</td>\n",
       "      <td>2019-11-01 04:00:00</td>\n",
       "      <td>8.13</td>\n",
       "      <td>0.12</td>\n",
       "    </tr>\n",
       "    <tr>\n",
       "      <th>4</th>\n",
       "      <td>2019-11-01</td>\n",
       "      <td>2019-11-01 05:00:00</td>\n",
       "      <td>7.73</td>\n",
       "      <td>0.25</td>\n",
       "    </tr>\n",
       "  </tbody>\n",
       "</table>\n",
       "</div>"
      ],
      "text/plain": [
       "  ForecastTime      MeasurementTime  WindSpeed(m/s)  RelativePower\n",
       "0   2019-11-01  2019-11-01 01:00:00            7.47           0.32\n",
       "1   2019-11-01  2019-11-01 02:00:00            7.62           0.22\n",
       "2   2019-11-01  2019-11-01 03:00:00            8.35           0.27\n",
       "3   2019-11-01  2019-11-01 04:00:00            8.13           0.12\n",
       "4   2019-11-01  2019-11-01 05:00:00            7.73           0.25"
      ]
     },
     "execution_count": 6,
     "metadata": {},
     "output_type": "execute_result"
    }
   ],
   "source": [
    "training_data.rename(columns = {\"windspeed [m/s]\":\"WindSpeed(m/s)\",\n",
    "                                \"ptime\" : \"ForecastTime\",\n",
    "                                \"time\" : \"MeasurementTime\",\"power [relative]\":\"RelativePower\"},\n",
    "            inplace = True)\n",
    "training_data.head()"
   ]
  },
  {
   "cell_type": "code",
   "execution_count": 7,
   "id": "6082f1b8-0b39-411f-ab4e-191e6f3bddcd",
   "metadata": {},
   "outputs": [],
   "source": [
    "training_data['MeasurementTime'] = pd.to_datetime(training_data['MeasurementTime'], format='%Y-%m-%d %H:%M:%S')\n",
    "training_data['Year'] = training_data['MeasurementTime'].dt.year\n",
    "training_data['Month'] = training_data['MeasurementTime'].dt.month\n",
    "training_data['Day'] = training_data['MeasurementTime'].dt.day\n",
    "training_data['Hour'] = training_data['MeasurementTime'].dt.hour\n",
    "training_data['Minute'] = training_data['MeasurementTime'].dt.minute"
   ]
  },
  {
   "cell_type": "code",
   "execution_count": 8,
   "id": "c8f48779-6854-4e6d-9bb6-3b5f78783a7b",
   "metadata": {},
   "outputs": [
    {
     "data": {
      "text/html": [
       "<div>\n",
       "<style scoped>\n",
       "    .dataframe tbody tr th:only-of-type {\n",
       "        vertical-align: middle;\n",
       "    }\n",
       "\n",
       "    .dataframe tbody tr th {\n",
       "        vertical-align: top;\n",
       "    }\n",
       "\n",
       "    .dataframe thead th {\n",
       "        text-align: right;\n",
       "    }\n",
       "</style>\n",
       "<table border=\"1\" class=\"dataframe\">\n",
       "  <thead>\n",
       "    <tr style=\"text-align: right;\">\n",
       "      <th></th>\n",
       "      <th>ForecastTime</th>\n",
       "      <th>MeasurementTime</th>\n",
       "      <th>WindSpeed(m/s)</th>\n",
       "      <th>RelativePower</th>\n",
       "      <th>Year</th>\n",
       "      <th>Month</th>\n",
       "      <th>Day</th>\n",
       "      <th>Hour</th>\n",
       "      <th>Minute</th>\n",
       "    </tr>\n",
       "  </thead>\n",
       "  <tbody>\n",
       "    <tr>\n",
       "      <th>0</th>\n",
       "      <td>2019-11-01</td>\n",
       "      <td>2019-11-01 01:00:00</td>\n",
       "      <td>7.47</td>\n",
       "      <td>0.32</td>\n",
       "      <td>2019</td>\n",
       "      <td>11</td>\n",
       "      <td>1</td>\n",
       "      <td>1</td>\n",
       "      <td>0</td>\n",
       "    </tr>\n",
       "    <tr>\n",
       "      <th>1</th>\n",
       "      <td>2019-11-01</td>\n",
       "      <td>2019-11-01 02:00:00</td>\n",
       "      <td>7.62</td>\n",
       "      <td>0.22</td>\n",
       "      <td>2019</td>\n",
       "      <td>11</td>\n",
       "      <td>1</td>\n",
       "      <td>2</td>\n",
       "      <td>0</td>\n",
       "    </tr>\n",
       "    <tr>\n",
       "      <th>2</th>\n",
       "      <td>2019-11-01</td>\n",
       "      <td>2019-11-01 03:00:00</td>\n",
       "      <td>8.35</td>\n",
       "      <td>0.27</td>\n",
       "      <td>2019</td>\n",
       "      <td>11</td>\n",
       "      <td>1</td>\n",
       "      <td>3</td>\n",
       "      <td>0</td>\n",
       "    </tr>\n",
       "    <tr>\n",
       "      <th>3</th>\n",
       "      <td>2019-11-01</td>\n",
       "      <td>2019-11-01 04:00:00</td>\n",
       "      <td>8.13</td>\n",
       "      <td>0.12</td>\n",
       "      <td>2019</td>\n",
       "      <td>11</td>\n",
       "      <td>1</td>\n",
       "      <td>4</td>\n",
       "      <td>0</td>\n",
       "    </tr>\n",
       "    <tr>\n",
       "      <th>4</th>\n",
       "      <td>2019-11-01</td>\n",
       "      <td>2019-11-01 05:00:00</td>\n",
       "      <td>7.73</td>\n",
       "      <td>0.25</td>\n",
       "      <td>2019</td>\n",
       "      <td>11</td>\n",
       "      <td>1</td>\n",
       "      <td>5</td>\n",
       "      <td>0</td>\n",
       "    </tr>\n",
       "  </tbody>\n",
       "</table>\n",
       "</div>"
      ],
      "text/plain": [
       "  ForecastTime     MeasurementTime  WindSpeed(m/s)  RelativePower  Year  \\\n",
       "0   2019-11-01 2019-11-01 01:00:00            7.47           0.32  2019   \n",
       "1   2019-11-01 2019-11-01 02:00:00            7.62           0.22  2019   \n",
       "2   2019-11-01 2019-11-01 03:00:00            8.35           0.27  2019   \n",
       "3   2019-11-01 2019-11-01 04:00:00            8.13           0.12  2019   \n",
       "4   2019-11-01 2019-11-01 05:00:00            7.73           0.25  2019   \n",
       "\n",
       "   Month  Day  Hour  Minute  \n",
       "0     11    1     1       0  \n",
       "1     11    1     2       0  \n",
       "2     11    1     3       0  \n",
       "3     11    1     4       0  \n",
       "4     11    1     5       0  "
      ]
     },
     "execution_count": 8,
     "metadata": {},
     "output_type": "execute_result"
    }
   ],
   "source": [
    "training_data.head()"
   ]
  },
  {
   "cell_type": "code",
   "execution_count": 9,
   "id": "50feb051-74f5-4c72-a7fe-548eddcacd92",
   "metadata": {},
   "outputs": [],
   "source": [
    "# Exploratory Data Analysis - \n",
    "#Finding if correlation exists between independent variables(such as windspeed,year,month,day,hour, time) \n",
    "#and dependent variable(that is Power)"
   ]
  },
  {
   "cell_type": "code",
   "execution_count": 10,
   "id": "9bc88499-36a2-4c8a-a3ed-888e2e05ffcd",
   "metadata": {},
   "outputs": [
    {
     "data": {
      "image/png": "[encoded data removed]",
      "text/plain": [
       "<Figure size 432x288 with 1 Axes>"
      ]
     },
     "metadata": {
      "needs_background": "light"
     },
     "output_type": "display_data"
    }
   ],
   "source": [
    "training_data.plot(x=\"WindSpeed(m/s)\", y=\"RelativePower\", kind='scatter')\n",
    "plt.xlabel(\"windspeed [m/s]\")\n",
    "plt.ylabel(\"power [relative] \")\n",
    "plt.title(\"Correlation Graph between Windspeed and Power\")\n",
    "plt.show()\n",
    "plt.savefig(\"Windspeed_Power_Correlation.jpeg\")\n",
    "plt.close()"
   ]
  },
  {
   "cell_type": "code",
   "execution_count": 11,
   "id": "2f219311-eced-41e6-bd25-989f1b7ba8e5",
   "metadata": {},
   "outputs": [
    {
     "data": {
      "image/png": "[encoded data removed]",
      "text/plain": [
       "<Figure size 432x288 with 1 Axes>"
      ]
     },
     "metadata": {
      "needs_background": "light"
     },
     "output_type": "display_data"
    }
   ],
   "source": [
    "training_data.plot(x=\"Year\", y=\"RelativePower\", kind='scatter')\n",
    "plt.xlabel(\"Year\")\n",
    "plt.ylabel(\"power [relative] \")\n",
    "plt.title(\"Correlation Graph between Year and Power\")\n",
    "plt.show()\n",
    "plt.savefig(\"Year_Power_Correlation.jpeg\")\n",
    "plt.close()"
   ]
  },
  {
   "cell_type": "code",
   "execution_count": 12,
   "id": "e301ac94-1d5c-4488-a49e-95d34e0c749b",
   "metadata": {},
   "outputs": [
    {
     "data": {
      "image/png": "[encoded data removed]",
      "text/plain": [
       "<Figure size 432x288 with 1 Axes>"
      ]
     },
     "metadata": {
      "needs_background": "light"
     },
     "output_type": "display_data"
    }
   ],
   "source": [
    "training_data.plot(x=\"Month\", y=\"RelativePower\", kind='scatter')\n",
    "plt.xlabel(\"Month\")\n",
    "plt.ylabel(\"power [relative] \")\n",
    "plt.title(\"Correlation Graph between Month and Power\")\n",
    "plt.show()\n",
    "plt.savefig(\"Month_Power_Correlation.jpeg\")\n",
    "plt.close()"
   ]
  },
  {
   "cell_type": "code",
   "execution_count": 13,
   "id": "83d893bd-9230-452b-aa33-296ab0b73710",
   "metadata": {},
   "outputs": [
    {
     "data": {
      "image/png": "[encoded data removed]",
      "text/plain": [
       "<Figure size 432x288 with 1 Axes>"
      ]
     },
     "metadata": {
      "needs_background": "light"
     },
     "output_type": "display_data"
    }
   ],
   "source": [
    "training_data.plot(x=\"Day\", y=\"RelativePower\", kind='scatter')\n",
    "plt.xlabel(\"Day\")\n",
    "plt.ylabel(\"power [relative] \")\n",
    "plt.title(\"Correlation Graph between Day and Power\")\n",
    "plt.show()\n",
    "plt.savefig(\"Day_Power_Correlation.jpeg\")\n",
    "plt.close()"
   ]
  },
  {
   "cell_type": "code",
   "execution_count": 14,
   "id": "a7d9ecac-adb1-4b5f-978b-266676a8a14a",
   "metadata": {},
   "outputs": [
    {
     "data": {
      "image/png": "[encoded data removed]",
      "text/plain": [
       "<Figure size 432x288 with 1 Axes>"
      ]
     },
     "metadata": {
      "needs_background": "light"
     },
     "output_type": "display_data"
    }
   ],
   "source": [
    "training_data.plot(x=\"Hour\", y=\"RelativePower\", kind='scatter')\n",
    "plt.xlabel(\"Hour\")\n",
    "plt.ylabel(\"power [relative] \")\n",
    "plt.title(\"Correlation Graph between Hour and Power\")\n",
    "plt.show()\n",
    "plt.savefig(\"Hour_Power_Correlation.jpeg\")\n",
    "plt.close()"
   ]
  },
  {
   "cell_type": "code",
   "execution_count": 15,
   "id": "199d314f-f17e-43a8-b68a-8a5f5e2eeb49",
   "metadata": {},
   "outputs": [
    {
     "data": {
      "image/png": "[encoded data removed]",
      "text/plain": [
       "<Figure size 432x288 with 1 Axes>"
      ]
     },
     "metadata": {
      "needs_background": "light"
     },
     "output_type": "display_data"
    }
   ],
   "source": [
    "training_data.plot(x=\"MeasurementTime\", y=\"RelativePower\", kind='scatter')\n",
    "plt.xlabel(\"time\")\n",
    "plt.ylabel(\"power [relative] \")\n",
    "plt.title(\"Correlation Graph between time and Power\")\n",
    "plt.show()\n",
    "plt.savefig(\"time_Power_Correlation.jpeg\")\n",
    "plt.close()"
   ]
  },
  {
   "cell_type": "code",
   "execution_count": 16,
   "id": "a6aee250-d003-4f8d-9669-c43c22b3e1b0",
   "metadata": {},
   "outputs": [],
   "source": [
    "#Based on these plots above, RelativePower and Windspeed looks most correlated."
   ]
  },
  {
   "cell_type": "code",
   "execution_count": 17,
   "id": "8ec5c41e-c33e-42a6-b3b9-232a9f46225a",
   "metadata": {},
   "outputs": [
    {
     "data": {
      "text/html": [
       "<div>\n",
       "<style scoped>\n",
       "    .dataframe tbody tr th:only-of-type {\n",
       "        vertical-align: middle;\n",
       "    }\n",
       "\n",
       "    .dataframe tbody tr th {\n",
       "        vertical-align: top;\n",
       "    }\n",
       "\n",
       "    .dataframe thead th {\n",
       "        text-align: right;\n",
       "    }\n",
       "</style>\n",
       "<table border=\"1\" class=\"dataframe\">\n",
       "  <thead>\n",
       "    <tr style=\"text-align: right;\">\n",
       "      <th></th>\n",
       "      <th>WindSpeed(m/s)</th>\n",
       "    </tr>\n",
       "  </thead>\n",
       "  <tbody>\n",
       "    <tr>\n",
       "      <th>0</th>\n",
       "      <td>7.47</td>\n",
       "    </tr>\n",
       "    <tr>\n",
       "      <th>1</th>\n",
       "      <td>7.62</td>\n",
       "    </tr>\n",
       "    <tr>\n",
       "      <th>2</th>\n",
       "      <td>8.35</td>\n",
       "    </tr>\n",
       "    <tr>\n",
       "      <th>3</th>\n",
       "      <td>8.13</td>\n",
       "    </tr>\n",
       "    <tr>\n",
       "      <th>4</th>\n",
       "      <td>7.73</td>\n",
       "    </tr>\n",
       "    <tr>\n",
       "      <th>...</th>\n",
       "      <td>...</td>\n",
       "    </tr>\n",
       "    <tr>\n",
       "      <th>1225</th>\n",
       "      <td>9.64</td>\n",
       "    </tr>\n",
       "    <tr>\n",
       "      <th>1226</th>\n",
       "      <td>9.28</td>\n",
       "    </tr>\n",
       "    <tr>\n",
       "      <th>1227</th>\n",
       "      <td>7.53</td>\n",
       "    </tr>\n",
       "    <tr>\n",
       "      <th>1228</th>\n",
       "      <td>6.47</td>\n",
       "    </tr>\n",
       "    <tr>\n",
       "      <th>1229</th>\n",
       "      <td>5.94</td>\n",
       "    </tr>\n",
       "  </tbody>\n",
       "</table>\n",
       "<p>1230 rows × 1 columns</p>\n",
       "</div>"
      ],
      "text/plain": [
       "      WindSpeed(m/s)\n",
       "0               7.47\n",
       "1               7.62\n",
       "2               8.35\n",
       "3               8.13\n",
       "4               7.73\n",
       "...              ...\n",
       "1225            9.64\n",
       "1226            9.28\n",
       "1227            7.53\n",
       "1228            6.47\n",
       "1229            5.94\n",
       "\n",
       "[1230 rows x 1 columns]"
      ]
     },
     "execution_count": 17,
     "metadata": {},
     "output_type": "execute_result"
    }
   ],
   "source": [
    "X_train= training_data[[\"WindSpeed(m/s)\"]]\n",
    "X_train"
   ]
  },
  {
   "cell_type": "code",
   "execution_count": 18,
   "id": "b877e55f-a3dc-4c91-86bf-51d4467e3375",
   "metadata": {},
   "outputs": [
    {
     "data": {
      "text/plain": [
       "0       0.32\n",
       "1       0.22\n",
       "2       0.27\n",
       "3       0.12\n",
       "4       0.25\n",
       "        ... \n",
       "1225    0.55\n",
       "1226    0.94\n",
       "1227    0.35\n",
       "1228    0.09\n",
       "1229    0.13\n",
       "Name: RelativePower, Length: 1230, dtype: float64"
      ]
     },
     "execution_count": 18,
     "metadata": {},
     "output_type": "execute_result"
    }
   ],
   "source": [
    "y_train = training_data[\"RelativePower\"]\n",
    "y_train"
   ]
  },
  {
   "cell_type": "code",
   "execution_count": 19,
   "id": "53aae351-477f-4154-af9b-a3b4e99a7284",
   "metadata": {},
   "outputs": [],
   "source": [
    "# Get the testing_data"
   ]
  },
  {
   "cell_type": "code",
   "execution_count": 20,
   "id": "48d491dd-027b-4cdf-8c2e-13eb502dd8d6",
   "metadata": {},
   "outputs": [],
   "source": [
    "testing_data = pd.read_csv('forecast.csv', delimiter=\";\")"
   ]
  },
  {
   "cell_type": "code",
   "execution_count": 21,
   "id": "7d6a299e-8ffc-4652-b6bb-3dee5ca7307d",
   "metadata": {},
   "outputs": [],
   "source": [
    "testing_data.rename(columns = {\"windspeed [m/s]\":\"WindSpeed(m/s)\",\n",
    "                                \"ptime\" : \"ForecastTime\",\n",
    "                                \"time\" : \"MeasurementTime\",\"power [relative]\":\"RelativePower\"},\n",
    "            inplace = True)"
   ]
  },
  {
   "cell_type": "code",
   "execution_count": 22,
   "id": "2d02344b-ee68-4bf9-9890-031ae40da792",
   "metadata": {},
   "outputs": [
    {
     "data": {
      "text/html": [
       "<div>\n",
       "<style scoped>\n",
       "    .dataframe tbody tr th:only-of-type {\n",
       "        vertical-align: middle;\n",
       "    }\n",
       "\n",
       "    .dataframe tbody tr th {\n",
       "        vertical-align: top;\n",
       "    }\n",
       "\n",
       "    .dataframe thead th {\n",
       "        text-align: right;\n",
       "    }\n",
       "</style>\n",
       "<table border=\"1\" class=\"dataframe\">\n",
       "  <thead>\n",
       "    <tr style=\"text-align: right;\">\n",
       "      <th></th>\n",
       "      <th>WindSpeed(m/s)</th>\n",
       "    </tr>\n",
       "  </thead>\n",
       "  <tbody>\n",
       "    <tr>\n",
       "      <th>0</th>\n",
       "      <td>7.29</td>\n",
       "    </tr>\n",
       "    <tr>\n",
       "      <th>1</th>\n",
       "      <td>7.07</td>\n",
       "    </tr>\n",
       "    <tr>\n",
       "      <th>2</th>\n",
       "      <td>7.27</td>\n",
       "    </tr>\n",
       "    <tr>\n",
       "      <th>3</th>\n",
       "      <td>7.46</td>\n",
       "    </tr>\n",
       "    <tr>\n",
       "      <th>4</th>\n",
       "      <td>6.89</td>\n",
       "    </tr>\n",
       "    <tr>\n",
       "      <th>...</th>\n",
       "      <td>...</td>\n",
       "    </tr>\n",
       "    <tr>\n",
       "      <th>265</th>\n",
       "      <td>5.72</td>\n",
       "    </tr>\n",
       "    <tr>\n",
       "      <th>266</th>\n",
       "      <td>5.31</td>\n",
       "    </tr>\n",
       "    <tr>\n",
       "      <th>267</th>\n",
       "      <td>5.25</td>\n",
       "    </tr>\n",
       "    <tr>\n",
       "      <th>268</th>\n",
       "      <td>5.22</td>\n",
       "    </tr>\n",
       "    <tr>\n",
       "      <th>269</th>\n",
       "      <td>5.48</td>\n",
       "    </tr>\n",
       "  </tbody>\n",
       "</table>\n",
       "<p>270 rows × 1 columns</p>\n",
       "</div>"
      ],
      "text/plain": [
       "     WindSpeed(m/s)\n",
       "0              7.29\n",
       "1              7.07\n",
       "2              7.27\n",
       "3              7.46\n",
       "4              6.89\n",
       "..              ...\n",
       "265            5.72\n",
       "266            5.31\n",
       "267            5.25\n",
       "268            5.22\n",
       "269            5.48\n",
       "\n",
       "[270 rows x 1 columns]"
      ]
     },
     "execution_count": 22,
     "metadata": {},
     "output_type": "execute_result"
    }
   ],
   "source": [
    "X_test= testing_data[[\"WindSpeed(m/s)\"]]\n",
    "X_test"
   ]
  },
  {
   "cell_type": "code",
   "execution_count": 23,
   "id": "288420ed-5729-4a52-b081-2919dd7420ee",
   "metadata": {},
   "outputs": [
    {
     "data": {
      "text/plain": [
       "0      0.14\n",
       "1      0.17\n",
       "2      0.20\n",
       "3      0.15\n",
       "4      0.26\n",
       "       ... \n",
       "265    0.52\n",
       "266    0.00\n",
       "267    0.09\n",
       "268    0.14\n",
       "269    0.75\n",
       "Name: RelativePower, Length: 270, dtype: float64"
      ]
     },
     "execution_count": 23,
     "metadata": {},
     "output_type": "execute_result"
    }
   ],
   "source": [
    "y_expected = testing_data[\"RelativePower\"]\n",
    "y_expected"
   ]
  },
  {
   "cell_type": "code",
   "execution_count": 24,
   "id": "98ae6e13-1caa-486e-ab2e-e9ade8750710",
   "metadata": {},
   "outputs": [],
   "source": [
    "# from sklearn.preprocessing import StandardScaler"
   ]
  },
  {
   "cell_type": "code",
   "execution_count": 25,
   "id": "8567f7c9-1647-4c78-8d58-1e38ac7ca328",
   "metadata": {},
   "outputs": [],
   "source": [
    "# sc = StandardScaler()\n",
    "# X_train = sc.fit_transform(X_train)\n",
    "# X_test = sc.fit_transform(X_test)\n",
    "# y_train = sc.fit_transform(y_train)\n",
    "# y_expected = sc.fit_transform(y_expected)"
   ]
  },
  {
   "cell_type": "code",
   "execution_count": 26,
   "id": "1bff5ee9-5fd2-45f9-a249-78f36259fb03",
   "metadata": {},
   "outputs": [],
   "source": [
    "# Training And Testing Using different Regression Algorithms"
   ]
  },
  {
   "cell_type": "code",
   "execution_count": 27,
   "id": "f1626ade-e669-4c04-a423-2d55f4b3b7a3",
   "metadata": {},
   "outputs": [],
   "source": [
    "# Model 1 - Using Linear Regression Algorithm"
   ]
  },
  {
   "cell_type": "code",
   "execution_count": 28,
   "id": "bc2cd4ed-da38-4f8a-8de0-1c35e78fc1ae",
   "metadata": {},
   "outputs": [],
   "source": [
    "from sklearn.linear_model import LinearRegression\n",
    "\n",
    "from sklearn.metrics import mean_squared_error, r2_score"
   ]
  },
  {
   "cell_type": "code",
   "execution_count": 29,
   "id": "56c64f29-1e00-4933-bd69-f7b0c526f956",
   "metadata": {},
   "outputs": [
    {
     "name": "stdout",
     "output_type": "stream",
     "text": [
      "coefficient\n",
      "[0.05934814]\n"
     ]
    }
   ],
   "source": [
    "#Training the model\n",
    "lr = LinearRegression()\n",
    "lr.fit(X_train, y_train)\n",
    "print(\"coefficient\")\n",
    "print(lr.coef_)"
   ]
  },
  {
   "cell_type": "code",
   "execution_count": 30,
   "id": "15d3f6f9-fb00-431c-b5cd-fb0417e4355a",
   "metadata": {},
   "outputs": [],
   "source": [
    "predict_y_train = lr.predict(X_train)"
   ]
  },
  {
   "cell_type": "code",
   "execution_count": 31,
   "id": "7fc8da46-330e-4924-abf7-862c1ac12c61",
   "metadata": {},
   "outputs": [
    {
     "name": "stdout",
     "output_type": "stream",
     "text": [
      "Training RMSE and R2 score:\n",
      "0.10952416541378676\n",
      "0.6979955943601954\n"
     ]
    }
   ],
   "source": [
    "# Error variation while training\n",
    "print(\"Training RMSE and R2 score:\")\n",
    "print(np.sqrt(mean_squared_error(y_train, predict_y_train)))\n",
    "print(r2_score(y_train, predict_y_train))"
   ]
  },
  {
   "cell_type": "code",
   "execution_count": 32,
   "id": "a306ff6a-464e-4ee9-98d0-da2b529e639d",
   "metadata": {},
   "outputs": [],
   "source": [
    "#Testing the model\n",
    "y_predict = lr.predict(X_test)"
   ]
  },
  {
   "cell_type": "code",
   "execution_count": 33,
   "id": "46454354-2f41-4da1-aefc-906f438dab0d",
   "metadata": {},
   "outputs": [
    {
     "name": "stdout",
     "output_type": "stream",
     "text": [
      "Testing RMSE and R2 score:\n",
      "0.10280087638431314\n",
      "0.5874898873435953\n"
     ]
    }
   ],
   "source": [
    "# Error variation in the predicted and expected values\n",
    "print(\"Testing RMSE and R2 score:\")\n",
    "print(np.sqrt(mean_squared_error(y_expected, y_predict)))\n",
    "print(r2_score(y_expected, y_predict))"
   ]
  },
  {
   "cell_type": "code",
   "execution_count": 34,
   "id": "e9304780-353c-438a-a3e5-428e9c218343",
   "metadata": {},
   "outputs": [],
   "source": [
    "# Expected and Predicted Data Representation Using Table and Graph"
   ]
  },
  {
   "cell_type": "code",
   "execution_count": 35,
   "id": "864d60a0-a391-4f5e-8f12-1dc8e86af716",
   "metadata": {},
   "outputs": [
    {
     "data": {
      "text/html": [
       "<div>\n",
       "<style scoped>\n",
       "    .dataframe tbody tr th:only-of-type {\n",
       "        vertical-align: middle;\n",
       "    }\n",
       "\n",
       "    .dataframe tbody tr th {\n",
       "        vertical-align: top;\n",
       "    }\n",
       "\n",
       "    .dataframe thead th {\n",
       "        text-align: right;\n",
       "    }\n",
       "</style>\n",
       "<table border=\"1\" class=\"dataframe\">\n",
       "  <thead>\n",
       "    <tr style=\"text-align: right;\">\n",
       "      <th></th>\n",
       "      <th>WindSpeed(m/s)</th>\n",
       "      <th>Expected Power</th>\n",
       "      <th>Predicted Power</th>\n",
       "    </tr>\n",
       "  </thead>\n",
       "  <tbody>\n",
       "    <tr>\n",
       "      <th>0</th>\n",
       "      <td>7.29</td>\n",
       "      <td>0.14</td>\n",
       "      <td>0.251037</td>\n",
       "    </tr>\n",
       "    <tr>\n",
       "      <th>1</th>\n",
       "      <td>7.07</td>\n",
       "      <td>0.17</td>\n",
       "      <td>0.237980</td>\n",
       "    </tr>\n",
       "    <tr>\n",
       "      <th>2</th>\n",
       "      <td>7.27</td>\n",
       "      <td>0.20</td>\n",
       "      <td>0.249850</td>\n",
       "    </tr>\n",
       "    <tr>\n",
       "      <th>3</th>\n",
       "      <td>7.46</td>\n",
       "      <td>0.15</td>\n",
       "      <td>0.261126</td>\n",
       "    </tr>\n",
       "    <tr>\n",
       "      <th>4</th>\n",
       "      <td>6.89</td>\n",
       "      <td>0.26</td>\n",
       "      <td>0.227297</td>\n",
       "    </tr>\n",
       "    <tr>\n",
       "      <th>...</th>\n",
       "      <td>...</td>\n",
       "      <td>...</td>\n",
       "      <td>...</td>\n",
       "    </tr>\n",
       "    <tr>\n",
       "      <th>265</th>\n",
       "      <td>5.72</td>\n",
       "      <td>0.52</td>\n",
       "      <td>0.157860</td>\n",
       "    </tr>\n",
       "    <tr>\n",
       "      <th>266</th>\n",
       "      <td>5.31</td>\n",
       "      <td>0.00</td>\n",
       "      <td>0.133527</td>\n",
       "    </tr>\n",
       "    <tr>\n",
       "      <th>267</th>\n",
       "      <td>5.25</td>\n",
       "      <td>0.09</td>\n",
       "      <td>0.129966</td>\n",
       "    </tr>\n",
       "    <tr>\n",
       "      <th>268</th>\n",
       "      <td>5.22</td>\n",
       "      <td>0.14</td>\n",
       "      <td>0.128186</td>\n",
       "    </tr>\n",
       "    <tr>\n",
       "      <th>269</th>\n",
       "      <td>5.48</td>\n",
       "      <td>0.75</td>\n",
       "      <td>0.143617</td>\n",
       "    </tr>\n",
       "  </tbody>\n",
       "</table>\n",
       "<p>270 rows × 3 columns</p>\n",
       "</div>"
      ],
      "text/plain": [
       "     WindSpeed(m/s)  Expected Power  Predicted Power\n",
       "0              7.29            0.14         0.251037\n",
       "1              7.07            0.17         0.237980\n",
       "2              7.27            0.20         0.249850\n",
       "3              7.46            0.15         0.261126\n",
       "4              6.89            0.26         0.227297\n",
       "..              ...             ...              ...\n",
       "265            5.72            0.52         0.157860\n",
       "266            5.31            0.00         0.133527\n",
       "267            5.25            0.09         0.129966\n",
       "268            5.22            0.14         0.128186\n",
       "269            5.48            0.75         0.143617\n",
       "\n",
       "[270 rows x 3 columns]"
      ]
     },
     "execution_count": 35,
     "metadata": {},
     "output_type": "execute_result"
    }
   ],
   "source": [
    "df = pd.DataFrame({'WindSpeed(m/s)':testing_data[\"WindSpeed(m/s)\"] , 'Expected Power': y_expected, 'Predicted Power': y_predict.flatten()})\n",
    "df"
   ]
  },
  {
   "cell_type": "code",
   "execution_count": 36,
   "id": "b83e0db7-455f-4b3d-81c5-30297feaef22",
   "metadata": {},
   "outputs": [
    {
     "data": {
      "image/png": "[encoded data removed]",
      "text/plain": [
       "<Figure size 1152x720 with 1 Axes>"
      ]
     },
     "metadata": {
      "needs_background": "light"
     },
     "output_type": "display_data"
    }
   ],
   "source": [
    "df1 = df.loc[:, df.columns!='WindSpeed(m/s)'].head(50)\n",
    "df1.plot(kind='bar',figsize=(16,10))\n",
    "plt.grid(which='major', linestyle='-', linewidth='0.5', color='grey')\n",
    "plt.grid(which='minor', linestyle=':', linewidth='0.5', color='black')\n",
    "plt.title(\"Comparison Graph for Actual and Predicted Values\")\n",
    "plt.show()\n",
    "plt.close()"
   ]
  },
  {
   "cell_type": "code",
   "execution_count": 37,
   "id": "8ddcbe66-325b-4f85-ae02-e1aa50013ea7",
   "metadata": {},
   "outputs": [],
   "source": [
    "# Model 2 - Using Support Vector Regressor"
   ]
  },
  {
   "cell_type": "code",
   "execution_count": 38,
   "id": "86a4724c-1a6d-4edc-8b5c-361d79c181c4",
   "metadata": {},
   "outputs": [],
   "source": [
    "from sklearn.svm import SVR"
   ]
  },
  {
   "cell_type": "code",
   "execution_count": 39,
   "id": "cb88c227-ae79-4a81-ba6c-694d4d22cf8d",
   "metadata": {},
   "outputs": [],
   "source": [
    "# Training the model\n",
    "regressor = SVR(kernel='rbf')\n",
    "regressor.fit(X_train, y_train)\n",
    "predict_training_data = regressor.predict(X_train)"
   ]
  },
  {
   "cell_type": "code",
   "execution_count": 40,
   "id": "678d40e8-4a5f-47eb-b6cd-2e5685eda227",
   "metadata": {},
   "outputs": [
    {
     "name": "stdout",
     "output_type": "stream",
     "text": [
      "Training RMSE and R2 score:\n",
      "0.0992505958168817\n",
      "0.7519954671233704\n"
     ]
    }
   ],
   "source": [
    "# Error variation while training\n",
    "print(\"Training RMSE and R2 score:\")\n",
    "print(np.sqrt(mean_squared_error(y_train, predict_training_data)))\n",
    "print(r2_score(y_train, predict_training_data))"
   ]
  },
  {
   "cell_type": "code",
   "execution_count": 41,
   "id": "067862c1-99df-4dc5-8c1c-6282cc3f8e70",
   "metadata": {},
   "outputs": [],
   "source": [
    "# Testing the model\n",
    "y_predict = regressor.predict(X_test)"
   ]
  },
  {
   "cell_type": "code",
   "execution_count": 42,
   "id": "907084de-9c3d-4f9c-b887-9d7a6ffb29f4",
   "metadata": {},
   "outputs": [
    {
     "name": "stdout",
     "output_type": "stream",
     "text": [
      "Testing RMSE and R2 score:\n",
      "0.09867432725926176\n",
      "0.6199424942001062\n"
     ]
    }
   ],
   "source": [
    "# Error variation in the predicted and expected values\n",
    "print(\"Testing RMSE and R2 score:\")\n",
    "print(np.sqrt(mean_squared_error(y_expected, y_predict)))\n",
    "print(r2_score(y_expected, y_predict))"
   ]
  },
  {
   "cell_type": "code",
   "execution_count": 43,
   "id": "9f41e148-fc44-458f-905e-de22bc9aacbc",
   "metadata": {},
   "outputs": [],
   "source": [
    "# Expected and Predicted Data Representation Using Table and Graph"
   ]
  },
  {
   "cell_type": "code",
   "execution_count": 44,
   "id": "22506c90-bdcc-42d3-bd25-ea92c3056ba9",
   "metadata": {},
   "outputs": [
    {
     "data": {
      "text/html": [
       "<div>\n",
       "<style scoped>\n",
       "    .dataframe tbody tr th:only-of-type {\n",
       "        vertical-align: middle;\n",
       "    }\n",
       "\n",
       "    .dataframe tbody tr th {\n",
       "        vertical-align: top;\n",
       "    }\n",
       "\n",
       "    .dataframe thead th {\n",
       "        text-align: right;\n",
       "    }\n",
       "</style>\n",
       "<table border=\"1\" class=\"dataframe\">\n",
       "  <thead>\n",
       "    <tr style=\"text-align: right;\">\n",
       "      <th></th>\n",
       "      <th>WindSpeed(m/s)</th>\n",
       "      <th>Expected Power</th>\n",
       "      <th>Predicted Power</th>\n",
       "    </tr>\n",
       "  </thead>\n",
       "  <tbody>\n",
       "    <tr>\n",
       "      <th>0</th>\n",
       "      <td>7.29</td>\n",
       "      <td>0.14</td>\n",
       "      <td>0.220642</td>\n",
       "    </tr>\n",
       "    <tr>\n",
       "      <th>1</th>\n",
       "      <td>7.07</td>\n",
       "      <td>0.17</td>\n",
       "      <td>0.204686</td>\n",
       "    </tr>\n",
       "    <tr>\n",
       "      <th>2</th>\n",
       "      <td>7.27</td>\n",
       "      <td>0.20</td>\n",
       "      <td>0.219213</td>\n",
       "    </tr>\n",
       "    <tr>\n",
       "      <th>3</th>\n",
       "      <td>7.46</td>\n",
       "      <td>0.15</td>\n",
       "      <td>0.232599</td>\n",
       "    </tr>\n",
       "    <tr>\n",
       "      <th>4</th>\n",
       "      <td>6.89</td>\n",
       "      <td>0.26</td>\n",
       "      <td>0.191336</td>\n",
       "    </tr>\n",
       "    <tr>\n",
       "      <th>...</th>\n",
       "      <td>...</td>\n",
       "      <td>...</td>\n",
       "      <td>...</td>\n",
       "    </tr>\n",
       "    <tr>\n",
       "      <th>265</th>\n",
       "      <td>5.72</td>\n",
       "      <td>0.52</td>\n",
       "      <td>0.115846</td>\n",
       "    </tr>\n",
       "    <tr>\n",
       "      <th>266</th>\n",
       "      <td>5.31</td>\n",
       "      <td>0.00</td>\n",
       "      <td>0.102682</td>\n",
       "    </tr>\n",
       "    <tr>\n",
       "      <th>267</th>\n",
       "      <td>5.25</td>\n",
       "      <td>0.09</td>\n",
       "      <td>0.101496</td>\n",
       "    </tr>\n",
       "    <tr>\n",
       "      <th>268</th>\n",
       "      <td>5.22</td>\n",
       "      <td>0.14</td>\n",
       "      <td>0.100970</td>\n",
       "    </tr>\n",
       "    <tr>\n",
       "      <th>269</th>\n",
       "      <td>5.48</td>\n",
       "      <td>0.75</td>\n",
       "      <td>0.107052</td>\n",
       "    </tr>\n",
       "  </tbody>\n",
       "</table>\n",
       "<p>270 rows × 3 columns</p>\n",
       "</div>"
      ],
      "text/plain": [
       "     WindSpeed(m/s)  Expected Power  Predicted Power\n",
       "0              7.29            0.14         0.220642\n",
       "1              7.07            0.17         0.204686\n",
       "2              7.27            0.20         0.219213\n",
       "3              7.46            0.15         0.232599\n",
       "4              6.89            0.26         0.191336\n",
       "..              ...             ...              ...\n",
       "265            5.72            0.52         0.115846\n",
       "266            5.31            0.00         0.102682\n",
       "267            5.25            0.09         0.101496\n",
       "268            5.22            0.14         0.100970\n",
       "269            5.48            0.75         0.107052\n",
       "\n",
       "[270 rows x 3 columns]"
      ]
     },
     "execution_count": 44,
     "metadata": {},
     "output_type": "execute_result"
    }
   ],
   "source": [
    "df = pd.DataFrame({'WindSpeed(m/s)':testing_data[\"WindSpeed(m/s)\"] , 'Expected Power': y_expected, 'Predicted Power': y_predict.flatten()})\n",
    "df"
   ]
  },
  {
   "cell_type": "code",
   "execution_count": 45,
   "id": "79575623-71f3-463d-a479-f23de0f08238",
   "metadata": {},
   "outputs": [
    {
     "data": {
      "image/png": "[encoded data removed]",
      "text/plain": [
       "<Figure size 1152x720 with 1 Axes>"
      ]
     },
     "metadata": {
      "needs_background": "light"
     },
     "output_type": "display_data"
    }
   ],
   "source": [
    "df1 = df.loc[:, df.columns!='WindSpeed(m/s)'].head(50)\n",
    "df1.plot(kind='bar',figsize=(16,10))\n",
    "plt.grid(which='major', linestyle='-', linewidth='0.5', color='grey')\n",
    "plt.grid(which='minor', linestyle=':', linewidth='0.5', color='black')\n",
    "plt.title(\"Comparison Graph for Actual and Predicted Values\")\n",
    "plt.show()\n",
    "plt.close()"
   ]
  },
  {
   "cell_type": "code",
   "execution_count": 46,
   "id": "2168a746-04a0-460b-8ef7-ed20b9e99c1f",
   "metadata": {},
   "outputs": [],
   "source": [
    "# Model 3 - Using Random Forest Regressor "
   ]
  },
  {
   "cell_type": "code",
   "execution_count": 47,
   "id": "048c33c7-d77f-4c56-8f41-0497eb7e5577",
   "metadata": {},
   "outputs": [],
   "source": [
    "from sklearn.ensemble import RandomForestRegressor"
   ]
  },
  {
   "cell_type": "code",
   "execution_count": 48,
   "id": "6ba5ef33-65ed-4f78-90f1-65819465ac0f",
   "metadata": {},
   "outputs": [],
   "source": [
    "# Training the model\n",
    "regressor = RandomForestRegressor(n_estimators=20, random_state=0)\n",
    "regressor.fit(X_train, y_train)\n",
    "predict_y_train = regressor.predict(X_train)"
   ]
  },
  {
   "cell_type": "code",
   "execution_count": 49,
   "id": "9ce59c80-a432-4cb1-b6d7-5de55759a205",
   "metadata": {},
   "outputs": [
    {
     "name": "stdout",
     "output_type": "stream",
     "text": [
      "Training RMSE and R2 score:\n",
      "0.07142960450556657\n",
      "0.8715453398308068\n"
     ]
    }
   ],
   "source": [
    "# Error variation while training\n",
    "print(\"Training RMSE and R2 score:\")\n",
    "print(np.sqrt(mean_squared_error(y_train, predict_y_train)))\n",
    "print(r2_score(y_train, predict_y_train))"
   ]
  },
  {
   "cell_type": "code",
   "execution_count": 50,
   "id": "daa18518-9c12-4018-8b6c-34b0449e9d06",
   "metadata": {},
   "outputs": [],
   "source": [
    "# Testing the model \n",
    "y_predict = regressor.predict(X_test)"
   ]
  },
  {
   "cell_type": "code",
   "execution_count": 51,
   "id": "2566e650-c2c1-4fe7-a81d-be9f65881d67",
   "metadata": {},
   "outputs": [
    {
     "name": "stdout",
     "output_type": "stream",
     "text": [
      "Testing RMSE and R2 score:\n",
      "0.10124195897521149\n",
      "0.5999059936523259\n"
     ]
    }
   ],
   "source": [
    "# Error variation in predicted and expected values\n",
    "print(\"Testing RMSE and R2 score:\")\n",
    "print(np.sqrt(mean_squared_error(y_expected, y_predict)))\n",
    "print(r2_score(y_expected, y_predict))"
   ]
  },
  {
   "cell_type": "code",
   "execution_count": 52,
   "id": "000a97cd-345a-4b68-90a8-64806343bf15",
   "metadata": {},
   "outputs": [],
   "source": [
    "# Expected and Predicted Data Representation Using Table and Graph"
   ]
  },
  {
   "cell_type": "code",
   "execution_count": 53,
   "id": "ee494971-0792-4d44-9cd9-2a28b90ec577",
   "metadata": {},
   "outputs": [
    {
     "data": {
      "text/html": [
       "<div>\n",
       "<style scoped>\n",
       "    .dataframe tbody tr th:only-of-type {\n",
       "        vertical-align: middle;\n",
       "    }\n",
       "\n",
       "    .dataframe tbody tr th {\n",
       "        vertical-align: top;\n",
       "    }\n",
       "\n",
       "    .dataframe thead th {\n",
       "        text-align: right;\n",
       "    }\n",
       "</style>\n",
       "<table border=\"1\" class=\"dataframe\">\n",
       "  <thead>\n",
       "    <tr style=\"text-align: right;\">\n",
       "      <th></th>\n",
       "      <th>WindSpeed(m/s)</th>\n",
       "      <th>Expected Power</th>\n",
       "      <th>Predicted Power</th>\n",
       "    </tr>\n",
       "  </thead>\n",
       "  <tbody>\n",
       "    <tr>\n",
       "      <th>0</th>\n",
       "      <td>7.29</td>\n",
       "      <td>0.14</td>\n",
       "      <td>0.247000</td>\n",
       "    </tr>\n",
       "    <tr>\n",
       "      <th>1</th>\n",
       "      <td>7.07</td>\n",
       "      <td>0.17</td>\n",
       "      <td>0.172017</td>\n",
       "    </tr>\n",
       "    <tr>\n",
       "      <th>2</th>\n",
       "      <td>7.27</td>\n",
       "      <td>0.20</td>\n",
       "      <td>0.214754</td>\n",
       "    </tr>\n",
       "    <tr>\n",
       "      <th>3</th>\n",
       "      <td>7.46</td>\n",
       "      <td>0.15</td>\n",
       "      <td>0.236917</td>\n",
       "    </tr>\n",
       "    <tr>\n",
       "      <th>4</th>\n",
       "      <td>6.89</td>\n",
       "      <td>0.26</td>\n",
       "      <td>0.249500</td>\n",
       "    </tr>\n",
       "    <tr>\n",
       "      <th>...</th>\n",
       "      <td>...</td>\n",
       "      <td>...</td>\n",
       "      <td>...</td>\n",
       "    </tr>\n",
       "    <tr>\n",
       "      <th>265</th>\n",
       "      <td>5.72</td>\n",
       "      <td>0.52</td>\n",
       "      <td>0.120000</td>\n",
       "    </tr>\n",
       "    <tr>\n",
       "      <th>266</th>\n",
       "      <td>5.31</td>\n",
       "      <td>0.00</td>\n",
       "      <td>0.037600</td>\n",
       "    </tr>\n",
       "    <tr>\n",
       "      <th>267</th>\n",
       "      <td>5.25</td>\n",
       "      <td>0.09</td>\n",
       "      <td>0.062333</td>\n",
       "    </tr>\n",
       "    <tr>\n",
       "      <th>268</th>\n",
       "      <td>5.22</td>\n",
       "      <td>0.14</td>\n",
       "      <td>0.065000</td>\n",
       "    </tr>\n",
       "    <tr>\n",
       "      <th>269</th>\n",
       "      <td>5.48</td>\n",
       "      <td>0.75</td>\n",
       "      <td>0.028222</td>\n",
       "    </tr>\n",
       "  </tbody>\n",
       "</table>\n",
       "<p>270 rows × 3 columns</p>\n",
       "</div>"
      ],
      "text/plain": [
       "     WindSpeed(m/s)  Expected Power  Predicted Power\n",
       "0              7.29            0.14         0.247000\n",
       "1              7.07            0.17         0.172017\n",
       "2              7.27            0.20         0.214754\n",
       "3              7.46            0.15         0.236917\n",
       "4              6.89            0.26         0.249500\n",
       "..              ...             ...              ...\n",
       "265            5.72            0.52         0.120000\n",
       "266            5.31            0.00         0.037600\n",
       "267            5.25            0.09         0.062333\n",
       "268            5.22            0.14         0.065000\n",
       "269            5.48            0.75         0.028222\n",
       "\n",
       "[270 rows x 3 columns]"
      ]
     },
     "execution_count": 53,
     "metadata": {},
     "output_type": "execute_result"
    }
   ],
   "source": [
    "df = pd.DataFrame({'WindSpeed(m/s)':testing_data[\"WindSpeed(m/s)\"] , 'Expected Power': y_expected, 'Predicted Power': y_predict.flatten()})\n",
    "df"
   ]
  },
  {
   "cell_type": "code",
   "execution_count": 54,
   "id": "03fd8b8b-4afe-49a2-8e4e-f4a13d50e718",
   "metadata": {},
   "outputs": [
    {
     "data": {
      "image/png": "[encoded data removed]",
      "text/plain": [
       "<Figure size 1152x720 with 1 Axes>"
      ]
     },
     "metadata": {
      "needs_background": "light"
     },
     "output_type": "display_data"
    }
   ],
   "source": [
    "df1 = df.loc[:, df.columns!='WindSpeed(m/s)'].head(50)\n",
    "df1.plot(kind='bar',figsize=(16,10))\n",
    "plt.grid(which='major', linestyle='-', linewidth='0.5', color='grey')\n",
    "plt.grid(which='minor', linestyle=':', linewidth='0.5', color='black')\n",
    "plt.title(\"Comparison Graph for Actual and Predicted Values\")\n",
    "plt.show()\n",
    "plt.close()"
   ]
  },
  {
   "cell_type": "code",
   "execution_count": 55,
   "id": "3f5b9f67-4a03-49d8-b693-1a119802eab3",
   "metadata": {},
   "outputs": [],
   "source": [
    "# Both RMSE and R- Squared quantifies how well a linear regression model fits a dataset. \n",
    "# The RMSE tells how well a regression model can predict the value of a response variable in absolute terms\n",
    "# R- Squared tells how well the predictor variables can explain the variation in the response variable.\n",
    "# However, for comparing the accuracy among different linear regression models, \n",
    "# RMSE is a better choice than R Squared."
   ]
  },
  {
   "cell_type": "code",
   "execution_count": 56,
   "id": "44ddf32b-f705-4a5f-b055-44fa13079ec4",
   "metadata": {},
   "outputs": [],
   "source": [
    "# Lower RMSE values shows that the model can relatively predict the data accurately.\n",
    "# R-Squared above 0.7 would generally mean a high level of correlation, \n",
    "# whereas a measure below 0.4 would shows a low correlation"
   ]
  },
  {
   "cell_type": "code",
   "execution_count": 57,
   "id": "505725be-65fd-4797-bdef-4c4e1625828a",
   "metadata": {},
   "outputs": [],
   "source": [
    "# Conclusion - \n",
    "# Due to the small value of RMSE in Model 2, and relatively inadmissable difference between the training and \n",
    "# testing RMSE and R2 values, the SVR model is most feasible to use.\n",
    "# Also, the high R2 values in each model depicts that the Power generated by the wind farm is higly \n",
    "# dependent on the windspeed.\n"
   ]
  }
 ],
 "metadata": {
  "kernelspec": {
   "display_name": "Python 3 (ipykernel)",
   "language": "python",
   "name": "python3"
  },
  "language_info": {
   "codemirror_mode": {
    "name": "ipython",
    "version": 3
   },
   "file_extension": ".py",
   "mimetype": "text/x-python",
   "name": "python",
   "nbconvert_exporter": "python",
   "pygments_lexer": "ipython3",
   "version": "3.9.12"
  },
  "toc-autonumbering": false
 },
 "nbformat": 4,
 "nbformat_minor": 5
}
